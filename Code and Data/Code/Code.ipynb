{
 "cells": [
  {
   "cell_type": "markdown",
   "id": "0d6480ee",
   "metadata": {},
   "source": [
    "# Importing Libraries"
   ]
  },
  {
   "cell_type": "code",
   "execution_count": 12,
   "id": "b70df8b1",
   "metadata": {},
   "outputs": [],
   "source": [
    "import pandas as pd\n",
    "import numpy as np\n",
    "import matplotlib.pyplot as plt\n",
    "import seaborn as sns\n",
    "from sklearn.model_selection import train_test_split\n",
    "from sklearn import preprocessing\n",
    "from sklearn.tree import DecisionTreeClassifier\n",
    "from sklearn.pipeline import make_pipeline\n",
    "from sklearn.svm import SVC\n",
    "from sklearn.ensemble import RandomForestClassifier\n",
    "from sklearn.neighbors import KNeighborsClassifier\n",
    "from keras.utils import np_utils\n",
    "from keras.models import Sequential\n",
    "from keras.layers import  Dense, Activation, Dropout, Conv2D, Flatten, MaxPooling2D\n",
    "from sklearn.metrics import confusion_matrix, classification_report\n",
    "from sklearn.ensemble import BaggingClassifier"
   ]
  },
  {
   "cell_type": "markdown",
   "id": "afff5159",
   "metadata": {},
   "source": [
    "# Reading data from csv files for model training and answering the questions"
   ]
  },
  {
   "cell_type": "code",
   "execution_count": 13,
   "id": "8516655c",
   "metadata": {},
   "outputs": [],
   "source": [
    "df = pd.read_csv(r\"C:\\Users\\ravid\\Downloads\\Crop_recommendation.csv\")\n",
    "q1_input = pd.read_csv(r\"C:\\Users\\ravid\\OneDrive\\Desktop\\q1.csv\")\n",
    "q2_input = pd.read_csv(r\"C:\\Users\\ravid\\OneDrive\\Desktop\\q2.csv\")\n",
    "q1_ans=\"\"\n",
    "q2_ans=\"\"\n",
    "q3_ans=\"\""
   ]
  },
  {
   "cell_type": "markdown",
   "id": "8d3714cc",
   "metadata": {},
   "source": [
    "# Preparing the data to be fed to neural network for training"
   ]
  },
  {
   "cell_type": "code",
   "execution_count": 16,
   "id": "4c6e86cb",
   "metadata": {},
   "outputs": [],
   "source": [
    "X = df.drop(['label'], axis=1)\n",
    "Y = df['label']\n",
    "encode = preprocessing.LabelEncoder()\n",
    "Y = encode.fit_transform(Y)"
   ]
  },
  {
   "cell_type": "code",
   "execution_count": 17,
   "id": "e1e98973",
   "metadata": {},
   "outputs": [],
   "source": [
    "X_train,X_test,y_train,y_test = train_test_split(X,Y,test_size=0.2)\n",
    "y_train = np_utils.to_categorical(y_train, 22)\n",
    "y_test = np_utils.to_categorical(y_test, 22)"
   ]
  },
  {
   "cell_type": "code",
   "execution_count": 18,
   "id": "0976f3b8",
   "metadata": {},
   "outputs": [
    {
     "data": {
      "text/plain": [
       "(1760, 7)"
      ]
     },
     "execution_count": 18,
     "metadata": {},
     "output_type": "execute_result"
    }
   ],
   "source": [
    "X_train.shape"
   ]
  },
  {
   "cell_type": "markdown",
   "id": "1ae52aed",
   "metadata": {},
   "source": [
    "# Preparing and training a neural network model"
   ]
  },
  {
   "cell_type": "code",
   "execution_count": 19,
   "id": "b940e6a0",
   "metadata": {},
   "outputs": [
    {
     "name": "stdout",
     "output_type": "stream",
     "text": [
      "Model: \"sequential\"\n",
      "_________________________________________________________________\n",
      " Layer (type)                Output Shape              Param #   \n",
      "=================================================================\n",
      " dense (Dense)               (None, 512)               4096      \n",
      "                                                                 \n",
      " activation (Activation)     (None, 512)               0         \n",
      "                                                                 \n",
      " dense_1 (Dense)             (None, 512)               262656    \n",
      "                                                                 \n",
      " activation_1 (Activation)   (None, 512)               0         \n",
      "                                                                 \n",
      " dense_2 (Dense)             (None, 22)                11286     \n",
      "                                                                 \n",
      " activation_2 (Activation)   (None, 22)                0         \n",
      "                                                                 \n",
      "=================================================================\n",
      "Total params: 278,038\n",
      "Trainable params: 278,038\n",
      "Non-trainable params: 0\n",
      "_________________________________________________________________\n"
     ]
    }
   ],
   "source": [
    "model = Sequential()\n",
    "model.add(Dense(512, input_shape=(7,)))\n",
    "model.add(Activation('sigmoid'))\n",
    "model.add(Dense(512))\n",
    "model.add(Activation('sigmoid'))\n",
    "model.add(Dense(22))\n",
    "model.add(Activation('softmax'))\n",
    "model.compile(optimizer='adam', loss='categorical_crossentropy', metrics = ['acc'])\n",
    "model.summary()"
   ]
  },
  {
   "cell_type": "code",
   "execution_count": 20,
   "id": "c2d57fae",
   "metadata": {},
   "outputs": [
    {
     "name": "stdout",
     "output_type": "stream",
     "text": [
      "Epoch 1/100\n",
      "55/55 [==============================] - 1s 4ms/step - loss: 1.8267 - acc: 0.4960\n",
      "Epoch 2/100\n",
      "55/55 [==============================] - 0s 4ms/step - loss: 0.6538 - acc: 0.8602\n",
      "Epoch 3/100\n",
      "55/55 [==============================] - 0s 5ms/step - loss: 0.3853 - acc: 0.9085\n",
      "Epoch 4/100\n",
      "55/55 [==============================] - 0s 6ms/step - loss: 0.2768 - acc: 0.9318\n",
      "Epoch 5/100\n",
      "55/55 [==============================] - 0s 5ms/step - loss: 0.2266 - acc: 0.9392\n",
      "Epoch 6/100\n",
      "55/55 [==============================] - 0s 6ms/step - loss: 0.1840 - acc: 0.9511\n",
      "Epoch 7/100\n",
      "55/55 [==============================] - 0s 6ms/step - loss: 0.1578 - acc: 0.9523\n",
      "Epoch 8/100\n",
      "55/55 [==============================] - 0s 5ms/step - loss: 0.1323 - acc: 0.9625\n",
      "Epoch 9/100\n",
      "55/55 [==============================] - 0s 6ms/step - loss: 0.1522 - acc: 0.9500\n",
      "Epoch 10/100\n",
      "55/55 [==============================] - 0s 5ms/step - loss: 0.1156 - acc: 0.9653\n",
      "Epoch 11/100\n",
      "55/55 [==============================] - 0s 5ms/step - loss: 0.1213 - acc: 0.9625\n",
      "Epoch 12/100\n",
      "55/55 [==============================] - 0s 5ms/step - loss: 0.1240 - acc: 0.9557\n",
      "Epoch 13/100\n",
      "55/55 [==============================] - 0s 4ms/step - loss: 0.1085 - acc: 0.9665\n",
      "Epoch 14/100\n",
      "55/55 [==============================] - 0s 4ms/step - loss: 0.0984 - acc: 0.9636\n",
      "Epoch 15/100\n",
      "55/55 [==============================] - 0s 4ms/step - loss: 0.1024 - acc: 0.9670\n",
      "Epoch 16/100\n",
      "55/55 [==============================] - 0s 4ms/step - loss: 0.0981 - acc: 0.9659\n",
      "Epoch 17/100\n",
      "55/55 [==============================] - 0s 5ms/step - loss: 0.1036 - acc: 0.9591\n",
      "Epoch 18/100\n",
      "55/55 [==============================] - 0s 5ms/step - loss: 0.0874 - acc: 0.9716\n",
      "Epoch 19/100\n",
      "55/55 [==============================] - 0s 4ms/step - loss: 0.0811 - acc: 0.9733\n",
      "Epoch 20/100\n",
      "55/55 [==============================] - 0s 5ms/step - loss: 0.0971 - acc: 0.9619\n",
      "Epoch 21/100\n",
      "55/55 [==============================] - 0s 4ms/step - loss: 0.0928 - acc: 0.9648\n",
      "Epoch 22/100\n",
      "55/55 [==============================] - 0s 4ms/step - loss: 0.0960 - acc: 0.9608\n",
      "Epoch 23/100\n",
      "55/55 [==============================] - 0s 4ms/step - loss: 0.0953 - acc: 0.9614\n",
      "Epoch 24/100\n",
      "55/55 [==============================] - 0s 4ms/step - loss: 0.1023 - acc: 0.9659\n",
      "Epoch 25/100\n",
      "55/55 [==============================] - 0s 4ms/step - loss: 0.0940 - acc: 0.9659\n",
      "Epoch 26/100\n",
      "55/55 [==============================] - 0s 4ms/step - loss: 0.0772 - acc: 0.9722\n",
      "Epoch 27/100\n",
      "55/55 [==============================] - 0s 4ms/step - loss: 0.0768 - acc: 0.9727\n",
      "Epoch 28/100\n",
      "55/55 [==============================] - 0s 5ms/step - loss: 0.0730 - acc: 0.9739\n",
      "Epoch 29/100\n",
      "55/55 [==============================] - 0s 4ms/step - loss: 0.0655 - acc: 0.9744\n",
      "Epoch 30/100\n",
      "55/55 [==============================] - 0s 4ms/step - loss: 0.0763 - acc: 0.9716\n",
      "Epoch 31/100\n",
      "55/55 [==============================] - 0s 4ms/step - loss: 0.0897 - acc: 0.9699A: 0s - loss: 0.0804 - acc: 0.9\n",
      "Epoch 32/100\n",
      "55/55 [==============================] - 0s 5ms/step - loss: 0.0836 - acc: 0.9665\n",
      "Epoch 33/100\n",
      "55/55 [==============================] - 0s 4ms/step - loss: 0.0741 - acc: 0.9710\n",
      "Epoch 34/100\n",
      "55/55 [==============================] - 0s 4ms/step - loss: 0.0704 - acc: 0.9727\n",
      "Epoch 35/100\n",
      "55/55 [==============================] - 0s 4ms/step - loss: 0.0827 - acc: 0.9693\n",
      "Epoch 36/100\n",
      "55/55 [==============================] - 0s 5ms/step - loss: 0.1113 - acc: 0.9580\n",
      "Epoch 37/100\n",
      "55/55 [==============================] - 0s 5ms/step - loss: 0.0825 - acc: 0.9693\n",
      "Epoch 38/100\n",
      "55/55 [==============================] - 0s 6ms/step - loss: 0.0672 - acc: 0.9739\n",
      "Epoch 39/100\n",
      "55/55 [==============================] - 0s 5ms/step - loss: 0.0651 - acc: 0.9716\n",
      "Epoch 40/100\n",
      "55/55 [==============================] - 0s 4ms/step - loss: 0.0657 - acc: 0.9767\n",
      "Epoch 41/100\n",
      "55/55 [==============================] - 0s 4ms/step - loss: 0.0589 - acc: 0.9750\n",
      "Epoch 42/100\n",
      "55/55 [==============================] - 0s 5ms/step - loss: 0.0982 - acc: 0.9648\n",
      "Epoch 43/100\n",
      "55/55 [==============================] - 0s 5ms/step - loss: 0.0650 - acc: 0.9767\n",
      "Epoch 44/100\n",
      "55/55 [==============================] - 0s 4ms/step - loss: 0.0588 - acc: 0.9795\n",
      "Epoch 45/100\n",
      "55/55 [==============================] - 0s 4ms/step - loss: 0.0558 - acc: 0.9790\n",
      "Epoch 46/100\n",
      "55/55 [==============================] - 0s 4ms/step - loss: 0.0729 - acc: 0.9705\n",
      "Epoch 47/100\n",
      "55/55 [==============================] - 0s 4ms/step - loss: 0.0610 - acc: 0.9750\n",
      "Epoch 48/100\n",
      "55/55 [==============================] - 0s 4ms/step - loss: 0.0964 - acc: 0.9693\n",
      "Epoch 49/100\n",
      "55/55 [==============================] - 0s 4ms/step - loss: 0.0588 - acc: 0.9761\n",
      "Epoch 50/100\n",
      "55/55 [==============================] - 0s 4ms/step - loss: 0.0606 - acc: 0.9761\n",
      "Epoch 51/100\n",
      "55/55 [==============================] - 0s 4ms/step - loss: 0.0572 - acc: 0.9761\n",
      "Epoch 52/100\n",
      "55/55 [==============================] - 0s 5ms/step - loss: 0.0717 - acc: 0.9733\n",
      "Epoch 53/100\n",
      "55/55 [==============================] - 0s 4ms/step - loss: 0.0624 - acc: 0.9761\n",
      "Epoch 54/100\n",
      "55/55 [==============================] - 0s 4ms/step - loss: 0.0938 - acc: 0.9653\n",
      "Epoch 55/100\n",
      "55/55 [==============================] - 0s 4ms/step - loss: 0.0647 - acc: 0.9750\n",
      "Epoch 56/100\n",
      "55/55 [==============================] - 0s 4ms/step - loss: 0.0618 - acc: 0.9750\n",
      "Epoch 57/100\n",
      "55/55 [==============================] - 0s 4ms/step - loss: 0.0717 - acc: 0.9739\n",
      "Epoch 58/100\n",
      "55/55 [==============================] - 0s 3ms/step - loss: 0.0664 - acc: 0.9744\n",
      "Epoch 59/100\n",
      "55/55 [==============================] - 0s 3ms/step - loss: 0.0824 - acc: 0.9693\n",
      "Epoch 60/100\n",
      "55/55 [==============================] - 0s 4ms/step - loss: 0.0512 - acc: 0.9818\n",
      "Epoch 61/100\n",
      "55/55 [==============================] - 0s 3ms/step - loss: 0.0715 - acc: 0.9733\n",
      "Epoch 62/100\n",
      "55/55 [==============================] - 0s 4ms/step - loss: 0.0674 - acc: 0.9733\n",
      "Epoch 63/100\n",
      "55/55 [==============================] - 0s 4ms/step - loss: 0.0633 - acc: 0.9739\n",
      "Epoch 64/100\n",
      "55/55 [==============================] - 0s 4ms/step - loss: 0.0620 - acc: 0.9744\n",
      "Epoch 65/100\n",
      "55/55 [==============================] - 0s 5ms/step - loss: 0.0619 - acc: 0.9767\n",
      "Epoch 66/100\n",
      "55/55 [==============================] - 0s 5ms/step - loss: 0.0618 - acc: 0.9773\n",
      "Epoch 67/100\n",
      "55/55 [==============================] - 0s 5ms/step - loss: 0.0782 - acc: 0.9727\n",
      "Epoch 68/100\n",
      "55/55 [==============================] - 0s 5ms/step - loss: 0.0579 - acc: 0.9761\n",
      "Epoch 69/100\n",
      "55/55 [==============================] - 0s 5ms/step - loss: 0.0540 - acc: 0.9801\n",
      "Epoch 70/100\n",
      "55/55 [==============================] - 0s 5ms/step - loss: 0.0555 - acc: 0.9773\n",
      "Epoch 71/100\n",
      "55/55 [==============================] - 0s 5ms/step - loss: 0.0501 - acc: 0.9812\n",
      "Epoch 72/100\n",
      "55/55 [==============================] - 0s 4ms/step - loss: 0.0637 - acc: 0.9750\n",
      "Epoch 73/100\n",
      "55/55 [==============================] - 0s 5ms/step - loss: 0.0465 - acc: 0.9835\n",
      "Epoch 74/100\n",
      "55/55 [==============================] - 0s 5ms/step - loss: 0.0819 - acc: 0.9688\n",
      "Epoch 75/100\n",
      "55/55 [==============================] - 0s 5ms/step - loss: 0.0663 - acc: 0.9744\n",
      "Epoch 76/100\n",
      "55/55 [==============================] - 0s 5ms/step - loss: 0.0739 - acc: 0.9744\n",
      "Epoch 77/100\n",
      "55/55 [==============================] - 0s 5ms/step - loss: 0.0479 - acc: 0.9835\n",
      "Epoch 78/100\n",
      "55/55 [==============================] - 0s 5ms/step - loss: 0.0484 - acc: 0.9807\n",
      "Epoch 79/100\n",
      "55/55 [==============================] - 0s 5ms/step - loss: 0.0665 - acc: 0.9744\n",
      "Epoch 80/100\n",
      "55/55 [==============================] - 0s 5ms/step - loss: 0.0452 - acc: 0.9835\n",
      "Epoch 81/100\n",
      "55/55 [==============================] - 0s 4ms/step - loss: 0.0511 - acc: 0.9807\n",
      "Epoch 82/100\n",
      "55/55 [==============================] - 0s 5ms/step - loss: 0.0623 - acc: 0.9778\n",
      "Epoch 83/100\n",
      "55/55 [==============================] - 0s 5ms/step - loss: 0.0534 - acc: 0.9773\n",
      "Epoch 84/100\n",
      "55/55 [==============================] - 0s 5ms/step - loss: 0.0455 - acc: 0.9841\n",
      "Epoch 85/100\n",
      "55/55 [==============================] - 0s 5ms/step - loss: 0.0546 - acc: 0.9790\n",
      "Epoch 86/100\n",
      "55/55 [==============================] - 0s 5ms/step - loss: 0.0572 - acc: 0.9767\n",
      "Epoch 87/100\n"
     ]
    },
    {
     "name": "stdout",
     "output_type": "stream",
     "text": [
      "55/55 [==============================] - 0s 4ms/step - loss: 0.0624 - acc: 0.9739\n",
      "Epoch 88/100\n",
      "55/55 [==============================] - 0s 5ms/step - loss: 0.0629 - acc: 0.9756\n",
      "Epoch 89/100\n",
      "55/55 [==============================] - 0s 5ms/step - loss: 0.0607 - acc: 0.9778\n",
      "Epoch 90/100\n",
      "55/55 [==============================] - 0s 5ms/step - loss: 0.0497 - acc: 0.9801\n",
      "Epoch 91/100\n",
      "55/55 [==============================] - 0s 5ms/step - loss: 0.0459 - acc: 0.9818\n",
      "Epoch 92/100\n",
      "55/55 [==============================] - 0s 5ms/step - loss: 0.0493 - acc: 0.9818\n",
      "Epoch 93/100\n",
      "55/55 [==============================] - 0s 5ms/step - loss: 0.0464 - acc: 0.9824\n",
      "Epoch 94/100\n",
      "55/55 [==============================] - 0s 5ms/step - loss: 0.0628 - acc: 0.9790\n",
      "Epoch 95/100\n",
      "55/55 [==============================] - 0s 5ms/step - loss: 0.0557 - acc: 0.9784\n",
      "Epoch 96/100\n",
      "55/55 [==============================] - 0s 5ms/step - loss: 0.0500 - acc: 0.9812\n",
      "Epoch 97/100\n",
      "55/55 [==============================] - 0s 5ms/step - loss: 0.0417 - acc: 0.9847\n",
      "Epoch 98/100\n",
      "55/55 [==============================] - 0s 5ms/step - loss: 0.0432 - acc: 0.9835\n",
      "Epoch 99/100\n",
      "55/55 [==============================] - 0s 5ms/step - loss: 0.0537 - acc: 0.9795\n",
      "Epoch 100/100\n",
      "55/55 [==============================] - 0s 5ms/step - loss: 0.0622 - acc: 0.9727\n"
     ]
    }
   ],
   "source": [
    "history = model.fit(np.array(X_train), y_train,\n",
    "                    epochs=100,\n",
    "                    verbose=1,\n",
    "                    )"
   ]
  },
  {
   "cell_type": "code",
   "execution_count": 21,
   "id": "ef3fb7bc",
   "metadata": {},
   "outputs": [
    {
     "name": "stdout",
     "output_type": "stream",
     "text": [
      "14/14 [==============================] - 0s 2ms/step - loss: 0.0867 - acc: 0.9614\n",
      "Test loss: 0.08671596646308899\n",
      "Test accuracy: 0.9613636136054993\n"
     ]
    }
   ],
   "source": [
    "mlp_loss, mlp_acc = model.evaluate(np.array(X_test), y_test)\n",
    "print('Test loss:', mlp_loss)\n",
    "print('Test accuracy:', mlp_acc)"
   ]
  },
  {
   "cell_type": "markdown",
   "id": "beb1c567",
   "metadata": {},
   "source": [
    "# Recommend which crop is well suited, given conditions"
   ]
  },
  {
   "cell_type": "code",
   "execution_count": 29,
   "id": "40da31c8",
   "metadata": {},
   "outputs": [
    {
     "name": "stdout",
     "output_type": "stream",
     "text": [
      "Best crop under these conditions is:  coffee\n"
     ]
    }
   ],
   "source": [
    "N = float(q1_input[:][\"N\"][0])\n",
    "P = float(q1_input[:][\"P\"][0])\n",
    "K = float(q1_input[:][\"K\"][0])\n",
    "temp = float(q1_input[:][\"temperature\"][0])\n",
    "humidity = float(q1_input[:][\"humidity\"][0])\n",
    "pH = float(q1_input[:][\"ph\"][0])\n",
    "rain = float(q1_input[:][\"rainfall\"][0])\n",
    "ip = np.array([N,P,K,temp,humidity,pH,rain]).reshape(1,7)\n",
    "predicted_crop = model.predict(ip).argmax()\n",
    "print(\"Best crop under these conditions is: \",encode.inverse_transform(np.array([predicted_crop]))[0])\n",
    "q1_ans = \"Best crop under the current condition of your soil is: \"+ encode.inverse_transform(np.array([predicted_crop]))[0]"
   ]
  },
  {
   "cell_type": "markdown",
   "id": "e2cb4c19",
   "metadata": {},
   "source": [
    "# Adjusting parameters according to the crop"
   ]
  },
  {
   "cell_type": "code",
   "execution_count": 35,
   "id": "9d4bada2",
   "metadata": {},
   "outputs": [],
   "source": [
    "input_crop = q2_input[:][\"crop\"][0]"
   ]
  },
  {
   "cell_type": "code",
   "execution_count": 36,
   "id": "d923e07a",
   "metadata": {},
   "outputs": [],
   "source": [
    "crop_param_desc = df[df['label']==input_crop].describe()"
   ]
  },
  {
   "cell_type": "code",
   "execution_count": 37,
   "id": "0a9bac09",
   "metadata": {},
   "outputs": [],
   "source": [
    "N = float(q2_input[:][\"N\"][0])\n",
    "P = float(q2_input[:][\"P\"][0])\n",
    "K = float(q2_input[:][\"K\"][0])\n",
    "temp = float(q2_input[:][\"temperature\"][0])\n",
    "humidity = float(q2_input[:][\"humidity\"][0])\n",
    "pH = float(q2_input[:][\"ph\"][0])\n",
    "rain = float(q2_input[:][\"rainfall\"][0])\n",
    "ip = np.array([N,P,K,temp,humidity,pH,rain]).reshape(1,7)"
   ]
  },
  {
   "cell_type": "code",
   "execution_count": 38,
   "id": "ed557854",
   "metadata": {},
   "outputs": [
    {
     "data": {
      "text/html": [
       "<div>\n",
       "<style scoped>\n",
       "    .dataframe tbody tr th:only-of-type {\n",
       "        vertical-align: middle;\n",
       "    }\n",
       "\n",
       "    .dataframe tbody tr th {\n",
       "        vertical-align: top;\n",
       "    }\n",
       "\n",
       "    .dataframe thead th {\n",
       "        text-align: right;\n",
       "    }\n",
       "</style>\n",
       "<table border=\"1\" class=\"dataframe\">\n",
       "  <thead>\n",
       "    <tr style=\"text-align: right;\">\n",
       "      <th></th>\n",
       "      <th>N</th>\n",
       "      <th>P</th>\n",
       "      <th>K</th>\n",
       "      <th>temperature</th>\n",
       "      <th>humidity</th>\n",
       "      <th>ph</th>\n",
       "      <th>rainfall</th>\n",
       "    </tr>\n",
       "  </thead>\n",
       "  <tbody>\n",
       "    <tr>\n",
       "      <th>count</th>\n",
       "      <td>100.000000</td>\n",
       "      <td>100.000000</td>\n",
       "      <td>100.000000</td>\n",
       "      <td>100.000000</td>\n",
       "      <td>100.000000</td>\n",
       "      <td>100.000000</td>\n",
       "      <td>100.000000</td>\n",
       "    </tr>\n",
       "    <tr>\n",
       "      <th>mean</th>\n",
       "      <td>20.990000</td>\n",
       "      <td>47.280000</td>\n",
       "      <td>19.870000</td>\n",
       "      <td>28.525775</td>\n",
       "      <td>85.499975</td>\n",
       "      <td>6.723957</td>\n",
       "      <td>48.403601</td>\n",
       "    </tr>\n",
       "    <tr>\n",
       "      <th>std</th>\n",
       "      <td>11.510641</td>\n",
       "      <td>7.870261</td>\n",
       "      <td>3.148368</td>\n",
       "      <td>0.841546</td>\n",
       "      <td>2.851356</td>\n",
       "      <td>0.286574</td>\n",
       "      <td>7.117214</td>\n",
       "    </tr>\n",
       "    <tr>\n",
       "      <th>min</th>\n",
       "      <td>0.000000</td>\n",
       "      <td>35.000000</td>\n",
       "      <td>15.000000</td>\n",
       "      <td>27.014704</td>\n",
       "      <td>80.034996</td>\n",
       "      <td>6.218924</td>\n",
       "      <td>36.120429</td>\n",
       "    </tr>\n",
       "    <tr>\n",
       "      <th>25%</th>\n",
       "      <td>10.000000</td>\n",
       "      <td>40.000000</td>\n",
       "      <td>17.000000</td>\n",
       "      <td>27.878650</td>\n",
       "      <td>83.429575</td>\n",
       "      <td>6.473731</td>\n",
       "      <td>43.103300</td>\n",
       "    </tr>\n",
       "    <tr>\n",
       "      <th>50%</th>\n",
       "      <td>22.000000</td>\n",
       "      <td>47.000000</td>\n",
       "      <td>20.000000</td>\n",
       "      <td>28.441673</td>\n",
       "      <td>85.953767</td>\n",
       "      <td>6.703890</td>\n",
       "      <td>49.028171</td>\n",
       "    </tr>\n",
       "    <tr>\n",
       "      <th>75%</th>\n",
       "      <td>31.000000</td>\n",
       "      <td>54.250000</td>\n",
       "      <td>22.000000</td>\n",
       "      <td>29.248616</td>\n",
       "      <td>87.832140</td>\n",
       "      <td>6.982101</td>\n",
       "      <td>54.837313</td>\n",
       "    </tr>\n",
       "    <tr>\n",
       "      <th>max</th>\n",
       "      <td>40.000000</td>\n",
       "      <td>60.000000</td>\n",
       "      <td>25.000000</td>\n",
       "      <td>29.914544</td>\n",
       "      <td>89.996156</td>\n",
       "      <td>7.199495</td>\n",
       "      <td>59.872321</td>\n",
       "    </tr>\n",
       "  </tbody>\n",
       "</table>\n",
       "</div>"
      ],
      "text/plain": [
       "                N           P           K  temperature    humidity  \\\n",
       "count  100.000000  100.000000  100.000000   100.000000  100.000000   \n",
       "mean    20.990000   47.280000   19.870000    28.525775   85.499975   \n",
       "std     11.510641    7.870261    3.148368     0.841546    2.851356   \n",
       "min      0.000000   35.000000   15.000000    27.014704   80.034996   \n",
       "25%     10.000000   40.000000   17.000000    27.878650   83.429575   \n",
       "50%     22.000000   47.000000   20.000000    28.441673   85.953767   \n",
       "75%     31.000000   54.250000   22.000000    29.248616   87.832140   \n",
       "max     40.000000   60.000000   25.000000    29.914544   89.996156   \n",
       "\n",
       "               ph    rainfall  \n",
       "count  100.000000  100.000000  \n",
       "mean     6.723957   48.403601  \n",
       "std      0.286574    7.117214  \n",
       "min      6.218924   36.120429  \n",
       "25%      6.473731   43.103300  \n",
       "50%      6.703890   49.028171  \n",
       "75%      6.982101   54.837313  \n",
       "max      7.199495   59.872321  "
      ]
     },
     "execution_count": 38,
     "metadata": {},
     "output_type": "execute_result"
    }
   ],
   "source": [
    "crop_param_desc"
   ]
  },
  {
   "cell_type": "code",
   "execution_count": 39,
   "id": "b6838ade",
   "metadata": {},
   "outputs": [],
   "source": [
    "param_adj_results = []\n",
    "correct_N = False\n",
    "correct_P = False\n",
    "correct_K = False\n",
    "correct_temp = False\n",
    "correct_humidity = False\n",
    "correct_pH = False\n",
    "correct_rain = False\n",
    "\n",
    "if N>crop_param_desc['N']['min'] and N<crop_param_desc['N']['max']:\n",
    "    param_adj_results.append(\"Amount of Nitrogen in the soil is in acceptable range\")\n",
    "    correct_N = True\n",
    "elif N<crop_param_desc['N']['min']:\n",
    "    param_adj_results.append(\"Amount of Nitrogen is very low, add some nitrogen to the soil\")\n",
    "elif N>crop_param_desc['N']['max']:\n",
    "    param_adj_results.append(\"Amount of Nitrogen is very high, reduce the nitrogen content in the soil\")\n",
    "    \n",
    "if P>crop_param_desc['P']['min'] and P<crop_param_desc['P']['max']:\n",
    "    param_adj_results.append(\"Amount of Phosphorous in the soil is in acceptable range\")\n",
    "    correct_P = True\n",
    "elif P<crop_param_desc['P']['min']:\n",
    "    param_adj_results.append(\"Amount of Phosphorous is very low, add some Phosphorous to the soil\")\n",
    "elif P>crop_param_desc['P']['max']:\n",
    "    param_adj_results.append(\"Amount of Phosphorous is very high, reduce the Phosphorous content in the soil\")\n",
    "    \n",
    "if K>crop_param_desc['K']['min'] and K<crop_param_desc['K']['max']:\n",
    "    param_adj_results.append(\"Amount of Potassium in the soil is in acceptable range\")\n",
    "    correct_K = True\n",
    "elif K<crop_param_desc['K']['min']:\n",
    "    param_adj_results.append(\"Amount of Potassium is very low, add some Potassium to the soil\")\n",
    "elif K>crop_param_desc['K']['max']:\n",
    "    param_adj_results.append(\"Amount of Potassium is very high, reduce the Potassium content in the soil\")\n",
    "    \n",
    "if temp>crop_param_desc['temperature']['min'] and temp<crop_param_desc['temperature']['max']:\n",
    "    param_adj_results.append(\"Temperature is in acceptable range\")\n",
    "    correct_temp = True\n",
    "elif temp<crop_param_desc['temperature']['min']:\n",
    "    param_adj_results.append(\"Low temperature warning!!\")\n",
    "elif temp>crop_param_desc['temperature']['max']:\n",
    "    param_adj_results.append(\"High temperature warning!!\")\n",
    "    \n",
    "if humidity>crop_param_desc['humidity']['min'] and humidity<crop_param_desc['humidity']['max']:\n",
    "    param_adj_results.append(\"humidity is in acceptable range\")\n",
    "    correct_humidity = True\n",
    "elif humidity<crop_param_desc['humidity']['min']:\n",
    "    param_adj_results.append(\"Low humidity warning!!\")\n",
    "elif humidity>crop_param_desc['humidity']['max']:\n",
    "    param_adj_results.append(\"High humidity warning!!\")\n",
    "\n",
    "if pH>crop_param_desc['ph']['min'] and pH<crop_param_desc['ph']['max']:\n",
    "    param_adj_results.append(\"pH is in acceptable range\")\n",
    "    correct_pH = True\n",
    "elif pH<crop_param_desc['ph']['min']:\n",
    "    param_adj_results.append(\"Low pH warning!!\")\n",
    "elif pH>crop_param_desc['ph']['max']:\n",
    "    param_adj_results.append(\"High pH warning!!\")\n",
    "\n",
    "if rain>crop_param_desc['rainfall']['min'] and rain<crop_param_desc['rainfall']['max']:\n",
    "    param_adj_results.append(\"rainfall is in acceptable range\")\n",
    "    correct_rain = True\n",
    "elif rain<crop_param_desc['rainfall']['min']:\n",
    "    param_adj_results.append(\"Low rainfall warning!!\")\n",
    "elif rain>crop_param_desc['rainfall']['max']:\n",
    "    param_adj_results.append(\"High rainfall warning!!\")"
   ]
  },
  {
   "cell_type": "markdown",
   "id": "1ef5be2f",
   "metadata": {},
   "source": [
    "# Checking if crop is suitable under present conditions"
   ]
  },
  {
   "cell_type": "code",
   "execution_count": 74,
   "id": "40fd4f3a",
   "metadata": {},
   "outputs": [
    {
     "name": "stdout",
     "output_type": "stream",
     "text": [
      "mungbean is not suitable under present conditions\n"
     ]
    }
   ],
   "source": [
    "if correct_N and correct_P and correct_K and correct_temp and correct_humidity and correct_rain:\n",
    "    print(input_crop,\"is suitable under present conditions conditions\")\n",
    "    q3_ans = input_crop+\" is suitable under present conditions\"\n",
    "else:\n",
    "    print(input_crop,\"is not suitable under present conditions\")\n",
    "    q3_ans = input_crop+\" is not suitable under present conditions\""
   ]
  },
  {
   "cell_type": "code",
   "execution_count": 56,
   "id": "2f83c106",
   "metadata": {},
   "outputs": [
    {
     "name": "stdout",
     "output_type": "stream",
     "text": [
      "['Amount of Nitrogen is very high, reduce the nitrogen content in the soil', 'Amount of Phosphorous is very low, add some Phosphorous to the soil', 'Amount of Potassium is very high, reduce the Potassium content in the soil', 'Low temperature warning!!', 'Low humidity warning!!', 'pH is in acceptable range', 'High rainfall warning!!']\n"
     ]
    }
   ],
   "source": [
    "q2_ans=\"\"\n",
    "print(param_adj_results)\n",
    "for i in param_adj_results:\n",
    "    q2_ans+=i+\".  \""
   ]
  },
  {
   "cell_type": "markdown",
   "id": "f524f923",
   "metadata": {},
   "source": [
    "# Send email using smtp"
   ]
  },
  {
   "cell_type": "code",
   "execution_count": 58,
   "id": "4a7dc9a8",
   "metadata": {},
   "outputs": [],
   "source": [
    "import email.message\n",
    "import smtplib"
   ]
  },
  {
   "cell_type": "code",
   "execution_count": 80,
   "id": "a3e9b2b6",
   "metadata": {},
   "outputs": [],
   "source": [
    "def send_msg(data,subject):\n",
    "    sender_email = \"ravideepdavis@gmail.com\"\n",
    "    rec_email = \"ravideepsingh81@gmail.com\"\n",
    "    password = \"tffijfhbbzumrypj\"\n",
    "\n",
    "    m = email.message.Message()\n",
    "    m['From'] = \"ravideepdavis@gmail.com\"\n",
    "    m['To'] = \"ravideepsingh81@gmail.com\"\n",
    "    m['Subject'] = subject\n",
    "\n",
    "    m.set_payload(data);\n",
    "    message = m.as_string()\n",
    "    connection = smtplib.SMTP('smtp.gmail.com:587')\n",
    "    connection.starttls()\n",
    "    connection.login(user = sender_email,password = password)\n",
    "    print(\"Login success\")\n",
    "    connection.sendmail(sender_email,rec_email,message)\n",
    "    connection.close()\n",
    "    print(\"Sent!!\")"
   ]
  },
  {
   "cell_type": "markdown",
   "id": "89d17efb",
   "metadata": {},
   "source": [
    "### Press \"1\" if you want to predict crop under current enivronmental factors\n",
    "### Press \"2\" if you want to figure out the changes to be made in environmental factor for the crop\n",
    "### Press \"3\" if you want to check the suitability check for the crop"
   ]
  },
  {
   "cell_type": "code",
   "execution_count": null,
   "id": "e8489b27",
   "metadata": {},
   "outputs": [],
   "source": [
    "q_input = int(input(\"Enter your choice\"))\n",
    "if q_input == 1:\n",
    "    send_msg(q1_ans,\"Crop prediction for current environmental factors\")\n",
    "elif q_input == 2:\n",
    "    send_msg(q2_ans,\"Changes need to be made in soil for\"+input_crop)\n",
    "elif q_input == 3:\n",
    "    send_msg(q3_ans,\"Suitability check for\"+ input_crop + \"for your soil\")"
   ]
  },
  {
   "cell_type": "code",
   "execution_count": null,
   "id": "556e19da",
   "metadata": {},
   "outputs": [],
   "source": []
  }
 ],
 "metadata": {
  "kernelspec": {
   "display_name": "Python 3",
   "language": "python",
   "name": "python3"
  },
  "language_info": {
   "codemirror_mode": {
    "name": "ipython",
    "version": 3
   },
   "file_extension": ".py",
   "mimetype": "text/x-python",
   "name": "python",
   "nbconvert_exporter": "python",
   "pygments_lexer": "ipython3",
   "version": "3.8.8"
  }
 },
 "nbformat": 4,
 "nbformat_minor": 5
}
